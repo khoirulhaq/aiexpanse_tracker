{
 "cells": [
  {
   "cell_type": "code",
   "execution_count": 1,
   "metadata": {},
   "outputs": [],
   "source": [
    "# Import library yang diperlukan\n",
    "import pandas as pd\n",
    "import sqlite3\n",
    "from datetime import datetime, timedelta\n",
    "\n",
    "# Tentukan path ke database SQLite Anda\n",
    "DATABASE_PATH = 'D:/workspace/EXPENSE_REPORT/flask2/expenses.db'\n",
    "\n",
    "# Membuka koneksi ke database\n",
    "conn = sqlite3.connect(DATABASE_PATH)\n",
    "\n",
    "# Ambil data dari tabel Expense\n",
    "query = \"SELECT nominal, tanggal FROM expense\"  # Pastikan nama tabelnya sesuai\n",
    "df = pd.read_sql(query, conn)\n",
    "\n",
    "# Pastikan kolom 'tanggal' sudah dalam format datetime\n",
    "df['tanggal'] = pd.to_datetime(df['tanggal'])\n",
    "\n",
    "# Menampilkan DataFrame\n",
    "df.head()\n",
    "\n",
    "# Tutup koneksi setelah selesai\n",
    "conn.close()\n"
   ]
  },
  {
   "cell_type": "code",
   "execution_count": 2,
   "metadata": {},
   "outputs": [
    {
     "name": "stdout",
     "output_type": "stream",
     "text": [
      "<class 'pandas.core.frame.DataFrame'>\n",
      "RangeIndex: 1413 entries, 0 to 1412\n",
      "Data columns (total 2 columns):\n",
      " #   Column   Non-Null Count  Dtype         \n",
      "---  ------   --------------  -----         \n",
      " 0   nominal  1413 non-null   int64         \n",
      " 1   tanggal  1413 non-null   datetime64[ns]\n",
      "dtypes: datetime64[ns](1), int64(1)\n",
      "memory usage: 22.2 KB\n"
     ]
    }
   ],
   "source": [
    "df.info()"
   ]
  },
  {
   "cell_type": "code",
   "execution_count": 5,
   "metadata": {},
   "outputs": [
    {
     "name": "stdout",
     "output_type": "stream",
     "text": [
      "Average Monthly (12 months): 4377211.62\n",
      "Median Monthly (12 months): 3173165.00\n"
     ]
    }
   ],
   "source": [
    "# Tambahkan kolom 'year_month' untuk grup bulanan\n",
    "df['year_month'] = df['tanggal'].dt.to_period('M')\n",
    "\n",
    "# Group by per bulan dengan agregasi sum\n",
    "monthly_data = df.groupby('year_month')['nominal'].sum().reset_index()\n",
    "\n",
    "# Konversi kembali 'year_month' menjadi datetime untuk perhitungan waktu\n",
    "monthly_data['year_month'] = monthly_data['year_month'].dt.to_timestamp()\n",
    "\n",
    "# Filter data 12 bulan terakhir\n",
    "last_12_months = monthly_data[monthly_data['year_month'] >= (monthly_data['year_month'].max() - pd.DateOffset(months=12))]\n",
    "\n",
    "# Hitung rata-rata dan median dari total nominal per bulan\n",
    "average_12_months = last_12_months['nominal'].mean()\n",
    "median_12_months = last_12_months['nominal'].median()\n",
    "\n",
    "print(f\"Average Monthly (12 months): {average_12_months:.2f}\")\n",
    "print(f\"Median Monthly (12 months): {median_12_months:.2f}\")"
   ]
  },
  {
   "cell_type": "code",
   "execution_count": 7,
   "metadata": {},
   "outputs": [
    {
     "data": {
      "text/plain": [
       "np.int64(62576061)"
      ]
     },
     "execution_count": 7,
     "metadata": {},
     "output_type": "execute_result"
    }
   ],
   "source": [
    "monthly_data['nominal'].sum()"
   ]
  },
  {
   "cell_type": "code",
   "execution_count": 8,
   "metadata": {},
   "outputs": [
    {
     "data": {
      "text/plain": [
       "np.int64(56903751)"
      ]
     },
     "execution_count": 8,
     "metadata": {},
     "output_type": "execute_result"
    }
   ],
   "source": [
    "last_12_months['nominal'].sum()"
   ]
  },
  {
   "cell_type": "code",
   "execution_count": 9,
   "metadata": {},
   "outputs": [
    {
     "data": {
      "text/html": [
       "<div>\n",
       "<style scoped>\n",
       "    .dataframe tbody tr th:only-of-type {\n",
       "        vertical-align: middle;\n",
       "    }\n",
       "\n",
       "    .dataframe tbody tr th {\n",
       "        vertical-align: top;\n",
       "    }\n",
       "\n",
       "    .dataframe thead th {\n",
       "        text-align: right;\n",
       "    }\n",
       "</style>\n",
       "<table border=\"1\" class=\"dataframe\">\n",
       "  <thead>\n",
       "    <tr style=\"text-align: right;\">\n",
       "      <th></th>\n",
       "      <th>year_month</th>\n",
       "      <th>nominal</th>\n",
       "    </tr>\n",
       "  </thead>\n",
       "  <tbody>\n",
       "    <tr>\n",
       "      <th>3</th>\n",
       "      <td>2024-01-01</td>\n",
       "      <td>2334985</td>\n",
       "    </tr>\n",
       "    <tr>\n",
       "      <th>4</th>\n",
       "      <td>2024-02-01</td>\n",
       "      <td>3599582</td>\n",
       "    </tr>\n",
       "    <tr>\n",
       "      <th>5</th>\n",
       "      <td>2024-03-01</td>\n",
       "      <td>4269834</td>\n",
       "    </tr>\n",
       "    <tr>\n",
       "      <th>6</th>\n",
       "      <td>2024-04-01</td>\n",
       "      <td>4820467</td>\n",
       "    </tr>\n",
       "    <tr>\n",
       "      <th>7</th>\n",
       "      <td>2024-05-01</td>\n",
       "      <td>2989260</td>\n",
       "    </tr>\n",
       "    <tr>\n",
       "      <th>8</th>\n",
       "      <td>2024-06-01</td>\n",
       "      <td>2931760</td>\n",
       "    </tr>\n",
       "    <tr>\n",
       "      <th>9</th>\n",
       "      <td>2024-07-01</td>\n",
       "      <td>2739865</td>\n",
       "    </tr>\n",
       "    <tr>\n",
       "      <th>10</th>\n",
       "      <td>2024-08-01</td>\n",
       "      <td>18951749</td>\n",
       "    </tr>\n",
       "    <tr>\n",
       "      <th>11</th>\n",
       "      <td>2024-09-01</td>\n",
       "      <td>3329234</td>\n",
       "    </tr>\n",
       "    <tr>\n",
       "      <th>12</th>\n",
       "      <td>2024-10-01</td>\n",
       "      <td>3173165</td>\n",
       "    </tr>\n",
       "    <tr>\n",
       "      <th>13</th>\n",
       "      <td>2024-11-01</td>\n",
       "      <td>2534312</td>\n",
       "    </tr>\n",
       "    <tr>\n",
       "      <th>14</th>\n",
       "      <td>2024-12-01</td>\n",
       "      <td>3676361</td>\n",
       "    </tr>\n",
       "    <tr>\n",
       "      <th>15</th>\n",
       "      <td>2025-01-01</td>\n",
       "      <td>1553177</td>\n",
       "    </tr>\n",
       "  </tbody>\n",
       "</table>\n",
       "</div>"
      ],
      "text/plain": [
       "   year_month   nominal\n",
       "3  2024-01-01   2334985\n",
       "4  2024-02-01   3599582\n",
       "5  2024-03-01   4269834\n",
       "6  2024-04-01   4820467\n",
       "7  2024-05-01   2989260\n",
       "8  2024-06-01   2931760\n",
       "9  2024-07-01   2739865\n",
       "10 2024-08-01  18951749\n",
       "11 2024-09-01   3329234\n",
       "12 2024-10-01   3173165\n",
       "13 2024-11-01   2534312\n",
       "14 2024-12-01   3676361\n",
       "15 2025-01-01   1553177"
      ]
     },
     "execution_count": 9,
     "metadata": {},
     "output_type": "execute_result"
    }
   ],
   "source": [
    "last_12_months"
   ]
  },
  {
   "cell_type": "code",
   "execution_count": 10,
   "metadata": {},
   "outputs": [
    {
     "data": {
      "text/html": [
       "<div>\n",
       "<style scoped>\n",
       "    .dataframe tbody tr th:only-of-type {\n",
       "        vertical-align: middle;\n",
       "    }\n",
       "\n",
       "    .dataframe tbody tr th {\n",
       "        vertical-align: top;\n",
       "    }\n",
       "\n",
       "    .dataframe thead th {\n",
       "        text-align: right;\n",
       "    }\n",
       "</style>\n",
       "<table border=\"1\" class=\"dataframe\">\n",
       "  <thead>\n",
       "    <tr style=\"text-align: right;\">\n",
       "      <th></th>\n",
       "      <th>year_month</th>\n",
       "      <th>nominal</th>\n",
       "    </tr>\n",
       "  </thead>\n",
       "  <tbody>\n",
       "    <tr>\n",
       "      <th>0</th>\n",
       "      <td>2023-10-01</td>\n",
       "      <td>1521275</td>\n",
       "    </tr>\n",
       "    <tr>\n",
       "      <th>1</th>\n",
       "      <td>2023-11-01</td>\n",
       "      <td>1457171</td>\n",
       "    </tr>\n",
       "    <tr>\n",
       "      <th>2</th>\n",
       "      <td>2023-12-01</td>\n",
       "      <td>2693864</td>\n",
       "    </tr>\n",
       "    <tr>\n",
       "      <th>3</th>\n",
       "      <td>2024-01-01</td>\n",
       "      <td>2334985</td>\n",
       "    </tr>\n",
       "    <tr>\n",
       "      <th>4</th>\n",
       "      <td>2024-02-01</td>\n",
       "      <td>3599582</td>\n",
       "    </tr>\n",
       "    <tr>\n",
       "      <th>5</th>\n",
       "      <td>2024-03-01</td>\n",
       "      <td>4269834</td>\n",
       "    </tr>\n",
       "    <tr>\n",
       "      <th>6</th>\n",
       "      <td>2024-04-01</td>\n",
       "      <td>4820467</td>\n",
       "    </tr>\n",
       "    <tr>\n",
       "      <th>7</th>\n",
       "      <td>2024-05-01</td>\n",
       "      <td>2989260</td>\n",
       "    </tr>\n",
       "    <tr>\n",
       "      <th>8</th>\n",
       "      <td>2024-06-01</td>\n",
       "      <td>2931760</td>\n",
       "    </tr>\n",
       "    <tr>\n",
       "      <th>9</th>\n",
       "      <td>2024-07-01</td>\n",
       "      <td>2739865</td>\n",
       "    </tr>\n",
       "    <tr>\n",
       "      <th>10</th>\n",
       "      <td>2024-08-01</td>\n",
       "      <td>18951749</td>\n",
       "    </tr>\n",
       "    <tr>\n",
       "      <th>11</th>\n",
       "      <td>2024-09-01</td>\n",
       "      <td>3329234</td>\n",
       "    </tr>\n",
       "    <tr>\n",
       "      <th>12</th>\n",
       "      <td>2024-10-01</td>\n",
       "      <td>3173165</td>\n",
       "    </tr>\n",
       "    <tr>\n",
       "      <th>13</th>\n",
       "      <td>2024-11-01</td>\n",
       "      <td>2534312</td>\n",
       "    </tr>\n",
       "    <tr>\n",
       "      <th>14</th>\n",
       "      <td>2024-12-01</td>\n",
       "      <td>3676361</td>\n",
       "    </tr>\n",
       "    <tr>\n",
       "      <th>15</th>\n",
       "      <td>2025-01-01</td>\n",
       "      <td>1553177</td>\n",
       "    </tr>\n",
       "  </tbody>\n",
       "</table>\n",
       "</div>"
      ],
      "text/plain": [
       "   year_month   nominal\n",
       "0  2023-10-01   1521275\n",
       "1  2023-11-01   1457171\n",
       "2  2023-12-01   2693864\n",
       "3  2024-01-01   2334985\n",
       "4  2024-02-01   3599582\n",
       "5  2024-03-01   4269834\n",
       "6  2024-04-01   4820467\n",
       "7  2024-05-01   2989260\n",
       "8  2024-06-01   2931760\n",
       "9  2024-07-01   2739865\n",
       "10 2024-08-01  18951749\n",
       "11 2024-09-01   3329234\n",
       "12 2024-10-01   3173165\n",
       "13 2024-11-01   2534312\n",
       "14 2024-12-01   3676361\n",
       "15 2025-01-01   1553177"
      ]
     },
     "execution_count": 10,
     "metadata": {},
     "output_type": "execute_result"
    }
   ],
   "source": [
    "monthly_data"
   ]
  },
  {
   "cell_type": "code",
   "execution_count": 3,
   "metadata": {},
   "outputs": [],
   "source": [
    "# Mendapatkan tanggal hari ini\n",
    "today = datetime.today()\n",
    "\n",
    "# Bulan ini\n",
    "start_of_this_month = today.replace(day=1)\n",
    "filtered_this_month = df[(df['tanggal'] >= start_of_this_month) & (df['tanggal'] < today)]\n",
    "\n",
    "# Bulan kemarin\n",
    "start_of_last_month = (start_of_this_month - pd.DateOffset(months=1)).replace(day=1)\n",
    "end_of_last_month = start_of_this_month - pd.Timedelta(days=1)\n",
    "filtered_last_month = df[(df['tanggal'] >= start_of_last_month) & (df['tanggal'] <= end_of_last_month)]\n",
    "\n"
   ]
  },
  {
   "cell_type": "code",
   "execution_count": 4,
   "metadata": {},
   "outputs": [
    {
     "name": "stdout",
     "output_type": "stream",
     "text": [
      "Rata-rata pengeluaran per hari bulan ini: Rp73960.81\n"
     ]
    }
   ],
   "source": [
    "grouped_this_month = (\n",
    "    filtered_this_month.groupby(filtered_this_month['tanggal'].dt.date)['nominal']\n",
    "    .sum()\n",
    "    .reset_index()\n",
    ")\n",
    "\n",
    "avg_daily = grouped_this_month['nominal'].mean()\n",
    "avg_daily_rounded = round(avg_daily, 2)\n",
    "print(f\"Rata-rata pengeluaran per hari bulan ini: Rp{avg_daily_rounded}\")"
   ]
  },
  {
   "cell_type": "code",
   "execution_count": 5,
   "metadata": {},
   "outputs": [
    {
     "name": "stdout",
     "output_type": "stream",
     "text": [
      "Change in Month: -56.74%\n"
     ]
    }
   ],
   "source": [
    "# Hitung total nominal untuk bulan ini\n",
    "total_this_month = filtered_this_month['nominal'].sum()\n",
    "\n",
    "# Hitung total nominal untuk bulan sebelumnya\n",
    "total_last_month = filtered_last_month['nominal'].sum()\n",
    "\n",
    "# Hitung perubahan persentase dari bulan sebelumnya ke bulan ini\n",
    "if total_last_month != 0:  # Pastikan tidak ada pembagian dengan nol\n",
    "    change_in_month = ((total_this_month - total_last_month) / total_last_month) * 100\n",
    "else:\n",
    "    change_in_month = float('inf')  # Jika bulan sebelumnya 0, anggap perubahan tak terhingga\n",
    "\n",
    "# Tampilkan hasil\n",
    "# print(f\"Total Nominal Bulan Ini: {total_this_month}\")\n",
    "# print(f\"Total Nominal Bulan Sebelumnya: {total_last_month}\")\n",
    "print(f\"Change in Month: {change_in_month:.2f}%\")\n"
   ]
  },
  {
   "cell_type": "code",
   "execution_count": 8,
   "metadata": {},
   "outputs": [
    {
     "data": {
      "text/plain": [
       "np.float64(-56.7439811221388)"
      ]
     },
     "execution_count": 8,
     "metadata": {},
     "output_type": "execute_result"
    }
   ],
   "source": [
    "change_in_month"
   ]
  },
  {
   "cell_type": "code",
   "execution_count": 7,
   "metadata": {},
   "outputs": [
    {
     "name": "stdout",
     "output_type": "stream",
     "text": [
      "Total Nominal Minggu Ini: 0\n",
      "Total Nominal Minggu Sebelumnya: 199000\n",
      "Change in Week: -100.00%\n"
     ]
    }
   ],
   "source": [
    "from datetime import timedelta\n",
    "\n",
    "# Tanggal awal minggu ini dan minggu sebelumnya\n",
    "start_of_this_week = today - timedelta(days=today.weekday())  # Senin minggu ini\n",
    "end_of_this_week = start_of_this_week + timedelta(days=6)    # Minggu minggu ini\n",
    "start_of_last_week = start_of_this_week - timedelta(days=7)  # Senin minggu sebelumnya\n",
    "end_of_last_week = start_of_this_week - timedelta(days=1)    # Minggu minggu sebelumnya\n",
    "\n",
    "# Filter data untuk minggu ini\n",
    "filtered_this_week = df[(df['tanggal'] >= start_of_this_week) & (df['tanggal'] <= end_of_this_week)]\n",
    "\n",
    "# Filter data untuk minggu sebelumnya\n",
    "filtered_last_week = df[(df['tanggal'] >= start_of_last_week) & (df['tanggal'] <= end_of_last_week)]\n",
    "\n",
    "# Hitung total nominal untuk minggu ini dan minggu sebelumnya\n",
    "total_this_week = filtered_this_week['nominal'].sum()\n",
    "total_last_week = filtered_last_week['nominal'].sum()\n",
    "\n",
    "# Hitung perubahan persentase dari minggu sebelumnya ke minggu ini\n",
    "if total_last_week != 0:  # Hindari pembagian dengan nol\n",
    "    change_in_week = ((total_this_week - total_last_week) / total_last_week) * 100\n",
    "else:\n",
    "    change_in_week = float('inf')  # Jika minggu sebelumnya 0, perubahan dianggap tak terhingga\n",
    "\n",
    "# Tampilkan hasil\n",
    "print(f\"Total Nominal Minggu Ini: {total_this_week}\")\n",
    "print(f\"Total Nominal Minggu Sebelumnya: {total_last_week}\")\n",
    "print(f\"Change in Week: {change_in_week:.2f}%\")\n"
   ]
  },
  {
   "cell_type": "code",
   "execution_count": 6,
   "metadata": {},
   "outputs": [
    {
     "name": "stdout",
     "output_type": "stream",
     "text": [
      "Today's Expenses:  0\n"
     ]
    }
   ],
   "source": [
    "today_expenses = df[df['tanggal'] >= today]['nominal'].sum()\n",
    "print(\"Today's Expenses: \", today_expenses)"
   ]
  },
  {
   "cell_type": "code",
   "execution_count": null,
   "metadata": {},
   "outputs": [],
   "source": [
    "# Data untuk dikembalikan ke frontend\n",
    "expenses = {\n",
    "    \"month\": total_this_month,\n",
    "    \"today\": today_expenses,\n",
    "    \"change_in_week\": change_in_week,\n",
    "    \"change_in_month\": change_in_month,\n",
    "    \"avg_daily_month\": avg_daily_rounded\n",
    "}"
   ]
  },
  {
   "cell_type": "code",
   "execution_count": 9,
   "metadata": {},
   "outputs": [
    {
     "data": {
      "text/html": [
       "<div>\n",
       "<style scoped>\n",
       "    .dataframe tbody tr th:only-of-type {\n",
       "        vertical-align: middle;\n",
       "    }\n",
       "\n",
       "    .dataframe tbody tr th {\n",
       "        vertical-align: top;\n",
       "    }\n",
       "\n",
       "    .dataframe thead th {\n",
       "        text-align: right;\n",
       "    }\n",
       "</style>\n",
       "<table border=\"1\" class=\"dataframe\">\n",
       "  <thead>\n",
       "    <tr style=\"text-align: right;\">\n",
       "      <th></th>\n",
       "      <th>nominal</th>\n",
       "      <th>tanggal</th>\n",
       "    </tr>\n",
       "  </thead>\n",
       "  <tbody>\n",
       "    <tr>\n",
       "      <th>1399</th>\n",
       "      <td>9200</td>\n",
       "      <td>2025-01-21</td>\n",
       "    </tr>\n",
       "    <tr>\n",
       "      <th>1400</th>\n",
       "      <td>25600</td>\n",
       "      <td>2025-01-21</td>\n",
       "    </tr>\n",
       "    <tr>\n",
       "      <th>1401</th>\n",
       "      <td>17000</td>\n",
       "      <td>2025-01-21</td>\n",
       "    </tr>\n",
       "    <tr>\n",
       "      <th>1402</th>\n",
       "      <td>22000</td>\n",
       "      <td>2025-01-21</td>\n",
       "    </tr>\n",
       "    <tr>\n",
       "      <th>1403</th>\n",
       "      <td>12000</td>\n",
       "      <td>2025-01-22</td>\n",
       "    </tr>\n",
       "    <tr>\n",
       "      <th>1404</th>\n",
       "      <td>15000</td>\n",
       "      <td>2025-01-22</td>\n",
       "    </tr>\n",
       "    <tr>\n",
       "      <th>1405</th>\n",
       "      <td>13000</td>\n",
       "      <td>2025-01-23</td>\n",
       "    </tr>\n",
       "    <tr>\n",
       "      <th>1406</th>\n",
       "      <td>19000</td>\n",
       "      <td>2025-01-23</td>\n",
       "    </tr>\n",
       "    <tr>\n",
       "      <th>1407</th>\n",
       "      <td>17000</td>\n",
       "      <td>2025-01-23</td>\n",
       "    </tr>\n",
       "    <tr>\n",
       "      <th>1408</th>\n",
       "      <td>5000</td>\n",
       "      <td>2025-01-23</td>\n",
       "    </tr>\n",
       "    <tr>\n",
       "      <th>1409</th>\n",
       "      <td>18000</td>\n",
       "      <td>2025-01-24</td>\n",
       "    </tr>\n",
       "    <tr>\n",
       "      <th>1410</th>\n",
       "      <td>10000</td>\n",
       "      <td>2025-01-24</td>\n",
       "    </tr>\n",
       "    <tr>\n",
       "      <th>1411</th>\n",
       "      <td>1200</td>\n",
       "      <td>2025-01-24</td>\n",
       "    </tr>\n",
       "    <tr>\n",
       "      <th>1412</th>\n",
       "      <td>15000</td>\n",
       "      <td>2025-01-24</td>\n",
       "    </tr>\n",
       "  </tbody>\n",
       "</table>\n",
       "</div>"
      ],
      "text/plain": [
       "      nominal    tanggal\n",
       "1399     9200 2025-01-21\n",
       "1400    25600 2025-01-21\n",
       "1401    17000 2025-01-21\n",
       "1402    22000 2025-01-21\n",
       "1403    12000 2025-01-22\n",
       "1404    15000 2025-01-22\n",
       "1405    13000 2025-01-23\n",
       "1406    19000 2025-01-23\n",
       "1407    17000 2025-01-23\n",
       "1408     5000 2025-01-23\n",
       "1409    18000 2025-01-24\n",
       "1410    10000 2025-01-24\n",
       "1411     1200 2025-01-24\n",
       "1412    15000 2025-01-24"
      ]
     },
     "execution_count": 9,
     "metadata": {},
     "output_type": "execute_result"
    }
   ],
   "source": [
    "filtered_last_week"
   ]
  },
  {
   "cell_type": "code",
   "execution_count": 10,
   "metadata": {},
   "outputs": [
    {
     "name": "stdout",
     "output_type": "stream",
     "text": [
      "start last week 2025-01-20 22:03:44.777145\n",
      "end last week 2025-01-26 22:03:44.777145\n"
     ]
    }
   ],
   "source": [
    "print(\"start last week\",start_of_last_week)\n",
    "print(\"end last week\",end_of_last_week)"
   ]
  },
  {
   "cell_type": "code",
   "execution_count": 11,
   "metadata": {},
   "outputs": [
    {
     "data": {
      "text/plain": [
       "np.int64(0)"
      ]
     },
     "execution_count": 11,
     "metadata": {},
     "output_type": "execute_result"
    }
   ],
   "source": [
    "total_this_week"
   ]
  },
  {
   "cell_type": "code",
   "execution_count": null,
   "metadata": {},
   "outputs": [],
   "source": []
  }
 ],
 "metadata": {
  "kernelspec": {
   "display_name": "base",
   "language": "python",
   "name": "python3"
  },
  "language_info": {
   "codemirror_mode": {
    "name": "ipython",
    "version": 3
   },
   "file_extension": ".py",
   "mimetype": "text/x-python",
   "name": "python",
   "nbconvert_exporter": "python",
   "pygments_lexer": "ipython3",
   "version": "3.12.3"
  }
 },
 "nbformat": 4,
 "nbformat_minor": 2
}
