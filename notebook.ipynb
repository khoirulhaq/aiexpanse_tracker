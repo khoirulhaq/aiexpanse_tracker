{
 "cells": [
  {
   "cell_type": "code",
   "execution_count": 2,
   "metadata": {},
   "outputs": [],
   "source": [
    "# Import library yang diperlukan\n",
    "import pandas as pd\n",
    "import sqlite3\n",
    "\n",
    "# Tentukan path ke database SQLite Anda\n",
    "DATABASE_PATH = 'D:/workspace/EXPENSE_REPORT/flask2/expenses.db'\n",
    "\n",
    "# Membuka koneksi ke database\n",
    "conn = sqlite3.connect(DATABASE_PATH)\n",
    "\n",
    "# Ambil data dari tabel Expense\n",
    "query = \"SELECT nominal, tanggal FROM expense\"  # Pastikan nama tabelnya sesuai\n",
    "df = pd.read_sql(query, conn)\n",
    "\n",
    "# Pastikan kolom 'tanggal' sudah dalam format datetime\n",
    "df['tanggal'] = pd.to_datetime(df['tanggal'])\n",
    "\n",
    "# Menampilkan DataFrame\n",
    "df.head()\n",
    "\n",
    "# Tutup koneksi setelah selesai\n",
    "conn.close()\n"
   ]
  },
  {
   "cell_type": "code",
   "execution_count": 23,
   "metadata": {},
   "outputs": [
    {
     "name": "stdout",
     "output_type": "stream",
     "text": [
      "<class 'pandas.core.frame.DataFrame'>\n",
      "RangeIndex: 1413 entries, 0 to 1412\n",
      "Data columns (total 2 columns):\n",
      " #   Column   Non-Null Count  Dtype         \n",
      "---  ------   --------------  -----         \n",
      " 0   nominal  1413 non-null   int64         \n",
      " 1   tanggal  1413 non-null   datetime64[ns]\n",
      "dtypes: datetime64[ns](1), int64(1)\n",
      "memory usage: 22.2 KB\n"
     ]
    }
   ],
   "source": [
    "df.info()"
   ]
  },
  {
   "cell_type": "code",
   "execution_count": 24,
   "metadata": {},
   "outputs": [],
   "source": [
    "import pandas as pd\n",
    "from datetime import datetime, timedelta"
   ]
  },
  {
   "cell_type": "code",
   "execution_count": 25,
   "metadata": {},
   "outputs": [
    {
     "name": "stdout",
     "output_type": "stream",
     "text": [
      "Data bulan ini:\n",
      "      nominal    tanggal\n",
      "1342    23800 2025-01-02\n",
      "1343    13100 2025-01-02\n",
      "1344    16000 2025-01-06\n",
      "1345     2900 2025-01-06\n",
      "1346    11000 2025-01-06\n",
      "...       ...        ...\n",
      "1408     5000 2025-01-23\n",
      "1409    18000 2025-01-24\n",
      "1410    10000 2025-01-24\n",
      "1411     1200 2025-01-24\n",
      "1412    15000 2025-01-24\n",
      "\n",
      "[70 rows x 2 columns]\n",
      "\n",
      "Data bulan kemarin:\n",
      "      nominal    tanggal\n",
      "1277    12000 2024-12-05\n",
      "1284     5500 2024-12-02\n",
      "1285   130000 2024-12-04\n",
      "1286   135000 2024-12-05\n",
      "1287    33000 2024-12-05\n",
      "1288    17000 2024-12-09\n",
      "1289    25500 2024-12-05\n",
      "1290     1200 2024-12-05\n",
      "1291    17000 2024-12-10\n",
      "1292    12000 2024-12-11\n",
      "1293     3900 2024-12-11\n",
      "1294     3500 2024-12-11\n",
      "1295    17000 2024-12-12\n",
      "1296    17000 2024-12-13\n",
      "1297    18000 2024-12-14\n",
      "1298    20000 2024-12-14\n",
      "1299     5000 2024-12-14\n",
      "1300    12000 2024-12-15\n",
      "1301    16000 2024-12-15\n",
      "1302    22000 2024-12-16\n",
      "1303    16000 2024-12-17\n",
      "1304    16000 2024-12-18\n",
      "1305    17000 2024-12-09\n",
      "1306   101641 2024-12-09\n",
      "1307    13000 2024-12-10\n",
      "1308   237820 2024-12-13\n",
      "1309    18000 2024-12-16\n",
      "1310    17000 2024-12-17\n",
      "1311    38000 2024-12-17\n",
      "1312    28500 2024-12-17\n",
      "1313    19000 2024-12-18\n",
      "1314    12000 2024-12-19\n",
      "1315    15000 2024-12-20\n",
      "1316    14000 2024-12-21\n",
      "1317    12000 2024-12-21\n",
      "1318    18000 2024-12-22\n",
      "1319     2000 2024-12-22\n",
      "1320    15000 2024-12-22\n",
      "1321    13000 2024-12-19\n",
      "1322    20000 2024-12-20\n",
      "1323   200000 2024-12-20\n",
      "1324    41900 2024-12-21\n",
      "1325     8000 2024-12-22\n",
      "1326   165000 2024-12-22\n",
      "1327    16000 2024-12-23\n",
      "1328    16000 2024-12-23\n",
      "1329     1200 2024-12-12\n",
      "1330    20000 2024-12-24\n",
      "1331     5800 2024-12-24\n",
      "1332     1200 2024-12-24\n",
      "1333    21500 2024-12-24\n",
      "1334   120000 2024-12-26\n",
      "1335    50000 2024-12-28\n",
      "1336   120000 2024-12-28\n",
      "1337    90000 2024-12-28\n",
      "1338   540000 2024-12-28\n",
      "1339  1000000 2024-12-30\n",
      "1340     2500 2024-12-30\n",
      "1341     1000 2024-12-27\n",
      "1354     5000 2024-12-31\n"
     ]
    }
   ],
   "source": [
    "# Mendapatkan tanggal hari ini\n",
    "today = datetime.today()\n",
    "\n",
    "# Bulan ini\n",
    "start_of_this_month = today.replace(day=1)\n",
    "filtered_this_month = df[(df['tanggal'] >= start_of_this_month) & (df['tanggal'] < today)]\n",
    "\n",
    "# Bulan kemarin\n",
    "start_of_last_month = (start_of_this_month - pd.DateOffset(months=1)).replace(day=1)\n",
    "end_of_last_month = start_of_this_month - pd.Timedelta(days=1)\n",
    "filtered_last_month = df[(df['tanggal'] >= start_of_last_month) & (df['tanggal'] <= end_of_last_month)]\n",
    "\n",
    "# Menampilkan hasil\n",
    "print(\"Data bulan ini:\")\n",
    "print(filtered_this_month)\n",
    "\n",
    "print(\"\\nData bulan kemarin:\")\n",
    "print(filtered_last_month)"
   ]
  },
  {
   "cell_type": "code",
   "execution_count": 28,
   "metadata": {},
   "outputs": [
    {
     "data": {
      "text/html": [
       "<div>\n",
       "<style scoped>\n",
       "    .dataframe tbody tr th:only-of-type {\n",
       "        vertical-align: middle;\n",
       "    }\n",
       "\n",
       "    .dataframe tbody tr th {\n",
       "        vertical-align: top;\n",
       "    }\n",
       "\n",
       "    .dataframe thead th {\n",
       "        text-align: right;\n",
       "    }\n",
       "</style>\n",
       "<table border=\"1\" class=\"dataframe\">\n",
       "  <thead>\n",
       "    <tr style=\"text-align: right;\">\n",
       "      <th></th>\n",
       "      <th>nominal</th>\n",
       "      <th>tanggal</th>\n",
       "    </tr>\n",
       "  </thead>\n",
       "  <tbody>\n",
       "    <tr>\n",
       "      <th>1342</th>\n",
       "      <td>23800</td>\n",
       "      <td>2025-01-02</td>\n",
       "    </tr>\n",
       "    <tr>\n",
       "      <th>1343</th>\n",
       "      <td>13100</td>\n",
       "      <td>2025-01-02</td>\n",
       "    </tr>\n",
       "    <tr>\n",
       "      <th>1344</th>\n",
       "      <td>16000</td>\n",
       "      <td>2025-01-06</td>\n",
       "    </tr>\n",
       "    <tr>\n",
       "      <th>1345</th>\n",
       "      <td>2900</td>\n",
       "      <td>2025-01-06</td>\n",
       "    </tr>\n",
       "    <tr>\n",
       "      <th>1346</th>\n",
       "      <td>11000</td>\n",
       "      <td>2025-01-06</td>\n",
       "    </tr>\n",
       "    <tr>\n",
       "      <th>...</th>\n",
       "      <td>...</td>\n",
       "      <td>...</td>\n",
       "    </tr>\n",
       "    <tr>\n",
       "      <th>1408</th>\n",
       "      <td>5000</td>\n",
       "      <td>2025-01-23</td>\n",
       "    </tr>\n",
       "    <tr>\n",
       "      <th>1409</th>\n",
       "      <td>18000</td>\n",
       "      <td>2025-01-24</td>\n",
       "    </tr>\n",
       "    <tr>\n",
       "      <th>1410</th>\n",
       "      <td>10000</td>\n",
       "      <td>2025-01-24</td>\n",
       "    </tr>\n",
       "    <tr>\n",
       "      <th>1411</th>\n",
       "      <td>1200</td>\n",
       "      <td>2025-01-24</td>\n",
       "    </tr>\n",
       "    <tr>\n",
       "      <th>1412</th>\n",
       "      <td>15000</td>\n",
       "      <td>2025-01-24</td>\n",
       "    </tr>\n",
       "  </tbody>\n",
       "</table>\n",
       "<p>70 rows × 2 columns</p>\n",
       "</div>"
      ],
      "text/plain": [
       "      nominal    tanggal\n",
       "1342    23800 2025-01-02\n",
       "1343    13100 2025-01-02\n",
       "1344    16000 2025-01-06\n",
       "1345     2900 2025-01-06\n",
       "1346    11000 2025-01-06\n",
       "...       ...        ...\n",
       "1408     5000 2025-01-23\n",
       "1409    18000 2025-01-24\n",
       "1410    10000 2025-01-24\n",
       "1411     1200 2025-01-24\n",
       "1412    15000 2025-01-24\n",
       "\n",
       "[70 rows x 2 columns]"
      ]
     },
     "execution_count": 28,
     "metadata": {},
     "output_type": "execute_result"
    }
   ],
   "source": [
    "filtered_this_month"
   ]
  },
  {
   "cell_type": "code",
   "execution_count": 30,
   "metadata": {},
   "outputs": [
    {
     "data": {
      "text/html": [
       "<div>\n",
       "<style scoped>\n",
       "    .dataframe tbody tr th:only-of-type {\n",
       "        vertical-align: middle;\n",
       "    }\n",
       "\n",
       "    .dataframe tbody tr th {\n",
       "        vertical-align: top;\n",
       "    }\n",
       "\n",
       "    .dataframe thead th {\n",
       "        text-align: right;\n",
       "    }\n",
       "</style>\n",
       "<table border=\"1\" class=\"dataframe\">\n",
       "  <thead>\n",
       "    <tr style=\"text-align: right;\">\n",
       "      <th></th>\n",
       "      <th>nominal</th>\n",
       "      <th>tanggal</th>\n",
       "    </tr>\n",
       "  </thead>\n",
       "  <tbody>\n",
       "    <tr>\n",
       "      <th>1342</th>\n",
       "      <td>23800</td>\n",
       "      <td>2025-01-02</td>\n",
       "    </tr>\n",
       "    <tr>\n",
       "      <th>1343</th>\n",
       "      <td>13100</td>\n",
       "      <td>2025-01-02</td>\n",
       "    </tr>\n",
       "    <tr>\n",
       "      <th>1344</th>\n",
       "      <td>16000</td>\n",
       "      <td>2025-01-06</td>\n",
       "    </tr>\n",
       "    <tr>\n",
       "      <th>1345</th>\n",
       "      <td>2900</td>\n",
       "      <td>2025-01-06</td>\n",
       "    </tr>\n",
       "    <tr>\n",
       "      <th>1346</th>\n",
       "      <td>11000</td>\n",
       "      <td>2025-01-06</td>\n",
       "    </tr>\n",
       "    <tr>\n",
       "      <th>...</th>\n",
       "      <td>...</td>\n",
       "      <td>...</td>\n",
       "    </tr>\n",
       "    <tr>\n",
       "      <th>1408</th>\n",
       "      <td>5000</td>\n",
       "      <td>2025-01-23</td>\n",
       "    </tr>\n",
       "    <tr>\n",
       "      <th>1409</th>\n",
       "      <td>18000</td>\n",
       "      <td>2025-01-24</td>\n",
       "    </tr>\n",
       "    <tr>\n",
       "      <th>1410</th>\n",
       "      <td>10000</td>\n",
       "      <td>2025-01-24</td>\n",
       "    </tr>\n",
       "    <tr>\n",
       "      <th>1411</th>\n",
       "      <td>1200</td>\n",
       "      <td>2025-01-24</td>\n",
       "    </tr>\n",
       "    <tr>\n",
       "      <th>1412</th>\n",
       "      <td>15000</td>\n",
       "      <td>2025-01-24</td>\n",
       "    </tr>\n",
       "  </tbody>\n",
       "</table>\n",
       "<p>70 rows × 2 columns</p>\n",
       "</div>"
      ],
      "text/plain": [
       "      nominal    tanggal\n",
       "1342    23800 2025-01-02\n",
       "1343    13100 2025-01-02\n",
       "1344    16000 2025-01-06\n",
       "1345     2900 2025-01-06\n",
       "1346    11000 2025-01-06\n",
       "...       ...        ...\n",
       "1408     5000 2025-01-23\n",
       "1409    18000 2025-01-24\n",
       "1410    10000 2025-01-24\n",
       "1411     1200 2025-01-24\n",
       "1412    15000 2025-01-24\n",
       "\n",
       "[70 rows x 2 columns]"
      ]
     },
     "execution_count": 30,
     "metadata": {},
     "output_type": "execute_result"
    }
   ],
   "source": [
    "filtered_this_month"
   ]
  },
  {
   "cell_type": "code",
   "execution_count": 32,
   "metadata": {},
   "outputs": [
    {
     "name": "stdout",
     "output_type": "stream",
     "text": [
      "       tanggal  nominal\n",
      "0   2025-01-02    42400\n",
      "1   2025-01-05    14500\n",
      "2   2025-01-06    78300\n",
      "3   2025-01-07    30000\n",
      "4   2025-01-08   384757\n",
      "5   2025-01-09    34000\n",
      "6   2025-01-10    68100\n",
      "7   2025-01-11    73900\n",
      "8   2025-01-12   266820\n",
      "9   2025-01-13    43000\n",
      "10  2025-01-14    46000\n",
      "11  2025-01-15    36000\n",
      "12  2025-01-16    30000\n",
      "13  2025-01-17    75000\n",
      "14  2025-01-18    59400\n",
      "15  2025-01-19    30000\n",
      "16  2025-01-20    42000\n",
      "17  2025-01-21    73800\n",
      "18  2025-01-22    27000\n",
      "19  2025-01-23    54000\n",
      "20  2025-01-24    44200\n"
     ]
    }
   ],
   "source": [
    "grouped_this_month = (\n",
    "    filtered_this_month.groupby(filtered_this_month['tanggal'].dt.date)['nominal']\n",
    "    .sum()\n",
    "    .reset_index()\n",
    ")\n",
    "print(grouped_this_month)\n"
   ]
  },
  {
   "cell_type": "code",
   "execution_count": 36,
   "metadata": {},
   "outputs": [
    {
     "data": {
      "text/plain": [
       "np.float64(73960.81)"
      ]
     },
     "execution_count": 36,
     "metadata": {},
     "output_type": "execute_result"
    }
   ],
   "source": [
    "avg_daily = grouped_this_month['nominal'].mean()\n",
    "avg_daily_rounded = round(avg_daily, 2)\n",
    "# print(avg_daily_rounded)\n",
    "avg_daily_rounded"
   ]
  },
  {
   "cell_type": "code",
   "execution_count": 38,
   "metadata": {},
   "outputs": [
    {
     "name": "stdout",
     "output_type": "stream",
     "text": [
      "73960.81\n"
     ]
    }
   ],
   "source": [
    "print(avg_daily_rounded)"
   ]
  },
  {
   "cell_type": "code",
   "execution_count": 39,
   "metadata": {},
   "outputs": [
    {
     "name": "stdout",
     "output_type": "stream",
     "text": [
      "Total Nominal Bulan Ini: 1553177\n",
      "Total Nominal Bulan Sebelumnya: 3590661\n",
      "Change in Month: -56.74%\n"
     ]
    }
   ],
   "source": [
    "# Hitung total nominal untuk bulan ini\n",
    "total_this_month = filtered_this_month['nominal'].sum()\n",
    "\n",
    "# Hitung total nominal untuk bulan sebelumnya\n",
    "total_last_month = filtered_last_month['nominal'].sum()\n",
    "\n",
    "# Hitung perubahan persentase dari bulan sebelumnya ke bulan ini\n",
    "if total_last_month != 0:  # Pastikan tidak ada pembagian dengan nol\n",
    "    change_in_month = ((total_this_month - total_last_month) / total_last_month) * 100\n",
    "else:\n",
    "    change_in_month = float('inf')  # Jika bulan sebelumnya 0, anggap perubahan tak terhingga\n",
    "\n",
    "# Tampilkan hasil\n",
    "print(f\"Total Nominal Bulan Ini: {total_this_month}\")\n",
    "print(f\"Total Nominal Bulan Sebelumnya: {total_last_month}\")\n",
    "print(f\"Change in Month: {change_in_month:.2f}%\")\n"
   ]
  },
  {
   "cell_type": "code",
   "execution_count": 7,
   "metadata": {},
   "outputs": [
    {
     "name": "stdout",
     "output_type": "stream",
     "text": [
      "Today's Date:  2025-01-27 21:10:56.562567\n",
      "Month Expenses:  1553177\n"
     ]
    }
   ],
   "source": [
    "# Ambil tanggal sekarang\n",
    "today = datetime.now()\n",
    "\n",
    "# Cetak informasi penting untuk debugging\n",
    "print(\"Today's Date: \", today)\n",
    "\n",
    "# Perhitungan untuk pengeluaran bulan ini\n",
    "start_of_month = today.replace(day=1)\n",
    "month_expenses = df[df['tanggal'] >= start_of_month]['nominal'].sum()\n",
    "print(\"Month Expenses: \", month_expenses)"
   ]
  },
  {
   "cell_type": "code",
   "execution_count": 9,
   "metadata": {},
   "outputs": [
    {
     "name": "stdout",
     "output_type": "stream",
     "text": [
      "2025-01-01 21:10:56.562567\n"
     ]
    }
   ],
   "source": [
    "print(start_of_month)"
   ]
  },
  {
   "cell_type": "code",
   "execution_count": 10,
   "metadata": {},
   "outputs": [
    {
     "name": "stdout",
     "output_type": "stream",
     "text": [
      "Last Week's Expenses:  241000\n"
     ]
    }
   ],
   "source": [
    "# Perhitungan untuk pengeluaran minggu kemarin\n",
    "# Hari Senin minggu kemarin\n",
    "start_of_last_week = today - timedelta(days=today.weekday() + 7)\n",
    "start_of_last_week = start_of_last_week.replace(hour=0, minute=0, second=0, microsecond=0)\n",
    "\n",
    "# Hari Minggu minggu kemarin\n",
    "end_of_last_week = start_of_last_week + timedelta(days=6, hours=23, minutes=59, seconds=59, microseconds=999999)\n",
    "\n",
    "week_expenses_last_week = df[(df['tanggal'] >= start_of_last_week) & (df['tanggal'] <= end_of_last_week)]['nominal'].sum()\n",
    "print(\"Last Week's Expenses: \", week_expenses_last_week)"
   ]
  },
  {
   "cell_type": "code",
   "execution_count": 11,
   "metadata": {},
   "outputs": [
    {
     "name": "stdout",
     "output_type": "stream",
     "text": [
      "2025-01-20 00:00:00\n",
      "2025-01-26 23:59:59.999999\n"
     ]
    }
   ],
   "source": [
    "print(start_of_last_week)\n",
    "print(end_of_last_week)"
   ]
  },
  {
   "cell_type": "code",
   "execution_count": 14,
   "metadata": {},
   "outputs": [
    {
     "data": {
      "text/html": [
       "<div>\n",
       "<style scoped>\n",
       "    .dataframe tbody tr th:only-of-type {\n",
       "        vertical-align: middle;\n",
       "    }\n",
       "\n",
       "    .dataframe tbody tr th {\n",
       "        vertical-align: top;\n",
       "    }\n",
       "\n",
       "    .dataframe thead th {\n",
       "        text-align: right;\n",
       "    }\n",
       "</style>\n",
       "<table border=\"1\" class=\"dataframe\">\n",
       "  <thead>\n",
       "    <tr style=\"text-align: right;\">\n",
       "      <th></th>\n",
       "      <th>nominal</th>\n",
       "      <th>tanggal</th>\n",
       "    </tr>\n",
       "  </thead>\n",
       "  <tbody>\n",
       "    <tr>\n",
       "      <th>1395</th>\n",
       "      <td>6000</td>\n",
       "      <td>2025-01-20</td>\n",
       "    </tr>\n",
       "    <tr>\n",
       "      <th>1396</th>\n",
       "      <td>5000</td>\n",
       "      <td>2025-01-20</td>\n",
       "    </tr>\n",
       "    <tr>\n",
       "      <th>1397</th>\n",
       "      <td>13000</td>\n",
       "      <td>2025-01-20</td>\n",
       "    </tr>\n",
       "    <tr>\n",
       "      <th>1398</th>\n",
       "      <td>18000</td>\n",
       "      <td>2025-01-20</td>\n",
       "    </tr>\n",
       "    <tr>\n",
       "      <th>1399</th>\n",
       "      <td>9200</td>\n",
       "      <td>2025-01-21</td>\n",
       "    </tr>\n",
       "    <tr>\n",
       "      <th>1400</th>\n",
       "      <td>25600</td>\n",
       "      <td>2025-01-21</td>\n",
       "    </tr>\n",
       "    <tr>\n",
       "      <th>1401</th>\n",
       "      <td>17000</td>\n",
       "      <td>2025-01-21</td>\n",
       "    </tr>\n",
       "    <tr>\n",
       "      <th>1402</th>\n",
       "      <td>22000</td>\n",
       "      <td>2025-01-21</td>\n",
       "    </tr>\n",
       "    <tr>\n",
       "      <th>1403</th>\n",
       "      <td>12000</td>\n",
       "      <td>2025-01-22</td>\n",
       "    </tr>\n",
       "    <tr>\n",
       "      <th>1404</th>\n",
       "      <td>15000</td>\n",
       "      <td>2025-01-22</td>\n",
       "    </tr>\n",
       "    <tr>\n",
       "      <th>1405</th>\n",
       "      <td>13000</td>\n",
       "      <td>2025-01-23</td>\n",
       "    </tr>\n",
       "    <tr>\n",
       "      <th>1406</th>\n",
       "      <td>19000</td>\n",
       "      <td>2025-01-23</td>\n",
       "    </tr>\n",
       "    <tr>\n",
       "      <th>1407</th>\n",
       "      <td>17000</td>\n",
       "      <td>2025-01-23</td>\n",
       "    </tr>\n",
       "    <tr>\n",
       "      <th>1408</th>\n",
       "      <td>5000</td>\n",
       "      <td>2025-01-23</td>\n",
       "    </tr>\n",
       "    <tr>\n",
       "      <th>1409</th>\n",
       "      <td>18000</td>\n",
       "      <td>2025-01-24</td>\n",
       "    </tr>\n",
       "    <tr>\n",
       "      <th>1410</th>\n",
       "      <td>10000</td>\n",
       "      <td>2025-01-24</td>\n",
       "    </tr>\n",
       "    <tr>\n",
       "      <th>1411</th>\n",
       "      <td>1200</td>\n",
       "      <td>2025-01-24</td>\n",
       "    </tr>\n",
       "    <tr>\n",
       "      <th>1412</th>\n",
       "      <td>15000</td>\n",
       "      <td>2025-01-24</td>\n",
       "    </tr>\n",
       "  </tbody>\n",
       "</table>\n",
       "</div>"
      ],
      "text/plain": [
       "      nominal    tanggal\n",
       "1395     6000 2025-01-20\n",
       "1396     5000 2025-01-20\n",
       "1397    13000 2025-01-20\n",
       "1398    18000 2025-01-20\n",
       "1399     9200 2025-01-21\n",
       "1400    25600 2025-01-21\n",
       "1401    17000 2025-01-21\n",
       "1402    22000 2025-01-21\n",
       "1403    12000 2025-01-22\n",
       "1404    15000 2025-01-22\n",
       "1405    13000 2025-01-23\n",
       "1406    19000 2025-01-23\n",
       "1407    17000 2025-01-23\n",
       "1408     5000 2025-01-23\n",
       "1409    18000 2025-01-24\n",
       "1410    10000 2025-01-24\n",
       "1411     1200 2025-01-24\n",
       "1412    15000 2025-01-24"
      ]
     },
     "execution_count": 14,
     "metadata": {},
     "output_type": "execute_result"
    }
   ],
   "source": [
    "df[(df['tanggal'] >= start_of_last_week) & (df['tanggal'] <= end_of_last_week)]"
   ]
  },
  {
   "cell_type": "code",
   "execution_count": 15,
   "metadata": {},
   "outputs": [
    {
     "name": "stdout",
     "output_type": "stream",
     "text": [
      "Last 7 Days Expenses:  199000\n"
     ]
    }
   ],
   "source": [
    "# Perhitungan untuk pengeluaran 7 hari terakhir\n",
    "start_of_last_7_days = today - timedelta(days=7)\n",
    "expenses_last_7_days = df[df['tanggal'] >= start_of_last_7_days]['nominal'].sum()\n",
    "print(\"Last 7 Days Expenses: \", expenses_last_7_days)"
   ]
  },
  {
   "cell_type": "code",
   "execution_count": 16,
   "metadata": {},
   "outputs": [
    {
     "name": "stdout",
     "output_type": "stream",
     "text": [
      "Average Daily Expenses in This Month:  1553177.0\n"
     ]
    }
   ],
   "source": [
    "# Rata-rata pengeluaran harian dalam bulan ini\n",
    "total_days_in_month = (today.replace(day=28) + timedelta(days=4)).day  # Menghitung jumlah hari dalam bulan ini\n",
    "daily_avg_expenses = month_expenses / total_days_in_month if total_days_in_month > 0 else 0\n",
    "print(\"Average Daily Expenses in This Month: \", daily_avg_expenses)"
   ]
  },
  {
   "cell_type": "code",
   "execution_count": 21,
   "metadata": {},
   "outputs": [
    {
     "name": "stdout",
     "output_type": "stream",
     "text": [
      "2025-01-27 21:10:56.562567\n"
     ]
    }
   ],
   "source": [
    "print(today)"
   ]
  },
  {
   "cell_type": "code",
   "execution_count": 22,
   "metadata": {},
   "outputs": [
    {
     "data": {
      "text/plain": [
       "datetime.datetime"
      ]
     },
     "execution_count": 22,
     "metadata": {},
     "output_type": "execute_result"
    }
   ],
   "source": [
    "type(today)"
   ]
  },
  {
   "cell_type": "code",
   "execution_count": null,
   "metadata": {},
   "outputs": [],
   "source": []
  }
 ],
 "metadata": {
  "kernelspec": {
   "display_name": "base",
   "language": "python",
   "name": "python3"
  },
  "language_info": {
   "codemirror_mode": {
    "name": "ipython",
    "version": 3
   },
   "file_extension": ".py",
   "mimetype": "text/x-python",
   "name": "python",
   "nbconvert_exporter": "python",
   "pygments_lexer": "ipython3",
   "version": "3.12.3"
  }
 },
 "nbformat": 4,
 "nbformat_minor": 2
}
